{
 "cells": [
  {
   "cell_type": "markdown",
   "id": "1c02ace5-0821-4bb0-b119-267dca46e2a3",
   "metadata": {},
   "source": [
    "#### Problem Statement: replace the letter 'e' in the string \"where else\" with '%'\n",
    "\n",
    "Input: \"where else\"\n",
    "\n",
    "Output: wh%r% %ls%"
   ]
  },
  {
   "cell_type": "code",
   "execution_count": 1,
   "id": "9920e787-867e-4931-a81f-7e6aec74bcf5",
   "metadata": {},
   "outputs": [
    {
     "name": "stdout",
     "output_type": "stream",
     "text": [
      "wh%r% %ls%\n"
     ]
    }
   ],
   "source": [
    "x = \"where else\"\n",
    "output = \"\"\n",
    "\n",
    "for char in x:\n",
    "    if char == \"e\":\n",
    "        output += \"%\"\n",
    "    else:\n",
    "        output += char\n",
    "\n",
    "print(output)"
   ]
  }
 ],
 "metadata": {
  "kernelspec": {
   "display_name": "Python 3 (ipykernel)",
   "language": "python",
   "name": "python3"
  },
  "language_info": {
   "codemirror_mode": {
    "name": "ipython",
    "version": 3
   },
   "file_extension": ".py",
   "mimetype": "text/x-python",
   "name": "python",
   "nbconvert_exporter": "python",
   "pygments_lexer": "ipython3",
   "version": "3.11.7"
  }
 },
 "nbformat": 4,
 "nbformat_minor": 5
}
